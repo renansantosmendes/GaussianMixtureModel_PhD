{
 "cells": [
  {
   "cell_type": "code",
   "execution_count": 1,
   "metadata": {},
   "outputs": [
    {
     "name": "stdout",
     "output_type": "stream",
     "text": [
      "Automatically created module for IPython interactive environment\n"
     ]
    }
   ],
   "source": [
    "# this notebook is a adaptation of example found in sci-kitlearn\n",
    "# https://scikit-learn.org/stable/auto_examples/mixture/plot_gmm_selection\n",
    "#.html#sphx-glr-auto-examples-mixture-plot-gmm-selection-py\n",
    "\n",
    "import pandas as pd\n",
    "import numpy as np\n",
    "import itertools\n",
    "from sklearn import preprocessing\n",
    "from scipy import linalg\n",
    "import matplotlib.pyplot as plt\n",
    "import matplotlib as mpl\n",
    "\n",
    "%matplotlib inline\n",
    "\n",
    "from sklearn import mixture\n",
    "\n",
    "print(__doc__)\n",
    "\n",
    "def generate_columns(number_of_functions):\n",
    "    return ['f' + str(i + 1) for i in range(number_of_functions)]"
   ]
  },
  {
   "cell_type": "code",
   "execution_count": 67,
   "metadata": {},
   "outputs": [],
   "source": [
    "#### Loading random solutions and preparing data\n",
    "# path = '/home/renansantos/Área de Trabalho/Doutorado/WFG/WFG_1.15/'\n",
    "# data = pd.read_csv(path + 'FINAL_PARETO_FRONT.TXT',encoding='utf-8',sep=' ',header=None)\n",
    "data = pd.read_csv('solutions_at.csv',encoding = 'utf-8', sep='|')\n",
    "# data = data.drop(data.shape[1] - 1,axis = 1)\n",
    "# data.columns = generate_columns(data.shape[1])\n",
    "\n",
    "#### Normalizing the dataframe\n",
    "x = data.values\n",
    "min_max_scaler = preprocessing.MinMaxScaler()\n",
    "x_scaled = min_max_scaler.fit_transform(x)\n",
    "data = pd.DataFrame(x_scaled)\n",
    "\n",
    "#### Slicing the dataframe\n",
    "n_components = data.shape[1]\n",
    "X = data.values\n",
    "X = data.iloc[:100,:n_components]\n",
    "columns = X.columns\n",
    "X = X.T"
   ]
  },
  {
   "cell_type": "code",
   "execution_count": 71,
   "metadata": {},
   "outputs": [
    {
     "name": "stdout",
     "output_type": "stream",
     "text": [
      "2+ tied -> 1572.70296447 = [1 1 0 1 1 1 0 0 1]\n",
      "2+ full -> 12589.5002139 = [1 1 1 1 0 1 1 1 1]\n",
      "3+ tied -> 1681.36614562 = [0 2 1 2 0 2 1 1 0]\n",
      "3+ full -> 23464.7835864 = [0 1 2 1 0 1 2 0 0]\n",
      "4+ tied -> 1790.99823811 = [1 2 3 0 1 2 2 1 1]\n",
      "4+ full -> 34731.3520779 = [2 3 1 0 2 3 1 2 2]\n",
      "5+ tied -> 1900.85386001 = [0 1 3 1 0 1 4 2 0]\n",
      "5+ full -> 45997.9001753 = [2 0 1 0 2 0 4 3 2]\n",
      "6+ tied -> 2013.22506065 = [1 2 3 2 5 2 0 4 1]\n",
      "6+ full -> 57265.7585026 = [4 0 1 0 2 0 5 3 4]\n",
      "7+ tied -> 2121.99172558 = [6 3 2 0 1 3 4 5 6]\n",
      "7+ full -> 68532.3269941 = [0 1 2 5 6 1 4 3 0]\n",
      "8+ tied -> 2235.97862877 = [3 7 4 5 2 1 6 0 3]\n",
      "8+ full -> 79825.3768394 = [1 0 3 2 6 7 4 5 1]\n",
      "Best model found is = 1572.70296447 clusters -> [1 1 0 1 1 1 0 0 1]\n"
     ]
    }
   ],
   "source": [
    "cv_types = ['tied', 'full']\n",
    "best_bic = np.inf\n",
    "for i in range(2,n_components):\n",
    "    for cv in cv_types:\n",
    "        gmm = mixture.GaussianMixture(n_components=i,covariance_type=cv, reg_covar=1e-06)\n",
    "        gmm.fit(X)\n",
    "        bic = gmm.bic(X)\n",
    "        Y = gmm.predict(X)\n",
    "        print(str(i) +  '+ '+ cv +' -> ' + str(bic) + ' = ' + str(Y))\n",
    "        \n",
    "        if  bic < best_bic:\n",
    "            best_bic = bic\n",
    "            best_gmm = gmm\n",
    "            best_Y = Y\n",
    "\n",
    "print('Best model found is = ' + str(best_bic) + ' clusters -> ' + str(best_Y))"
   ]
  },
  {
   "cell_type": "code",
   "execution_count": null,
   "metadata": {},
   "outputs": [],
   "source": []
  }
 ],
 "metadata": {
  "kernelspec": {
   "display_name": "Python 3",
   "language": "python",
   "name": "python3"
  },
  "language_info": {
   "codemirror_mode": {
    "name": "ipython",
    "version": 3
   },
   "file_extension": ".py",
   "mimetype": "text/x-python",
   "name": "python",
   "nbconvert_exporter": "python",
   "pygments_lexer": "ipython3",
   "version": "3.4.3"
  }
 },
 "nbformat": 4,
 "nbformat_minor": 2
}
